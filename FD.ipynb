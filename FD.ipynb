{
 "cells": [
  {
   "cell_type": "markdown",
   "id": "e9cf3d6e",
   "metadata": {},
   "source": [
    "# Automatic Kilometer to Mile Conversion for Fault Distances"
   ]
  },
  {
   "cell_type": "markdown",
   "id": "f27174eb",
   "metadata": {},
   "source": [
    "# 1: Import Modules"
   ]
  },
  {
   "cell_type": "code",
   "execution_count": 1,
   "id": "923dc1b6",
   "metadata": {},
   "outputs": [],
   "source": [
    "import numpy as np\n",
    "import pandas as pd\n",
    "import os\n",
    "import tkinter as tk\n",
    "from tkinter import filedialog"
   ]
  },
  {
   "cell_type": "markdown",
   "id": "3c579802",
   "metadata": {},
   "source": [
    "# 2: Choose Fault Distances File"
   ]
  },
  {
   "cell_type": "code",
   "execution_count": 2,
   "id": "de56782c",
   "metadata": {},
   "outputs": [],
   "source": [
    "# Create Tk root\n",
    "root = tk.Tk()\n",
    "\n",
    "# Hide the main window\n",
    "root.withdraw()\n",
    "root.call('wm', 'attributes', '.', '-topmost', True)\n",
    "\n",
    "# select file dialog\n",
    "file_path = filedialog.askopenfilename()\n",
    "\n",
    "%gui tk"
   ]
  },
  {
   "cell_type": "markdown",
   "id": "31e89856",
   "metadata": {},
   "source": [
    "# 3: Add Mile Column to Table"
   ]
  },
  {
   "cell_type": "code",
   "execution_count": 40,
   "id": "a2d6dee5",
   "metadata": {},
   "outputs": [],
   "source": [
    "conv = 0.621371 # km to mi conversion\n",
    "\n",
    "# read text file, format it for pandas (names are abbreviated column names)\n",
    "FD = pd.read_csv(file_path, sep='|', skiprows = 71, names = ['FAULT','KM',\n",
    "                                                             'SOURCE','Mw','SLIP',\n",
    "                                                             'TYPE'])\n",
    "\n",
    "# Add mile conversion column\n",
    "FD['MI'] = FD['KM']*conv\n",
    "\n",
    "# limit to 2 decimal places\n",
    "FD['MI'] = FD['MI'].round(2)\n",
    "\n",
    "# reorganize columns\n",
    "FD = FD[['FAULT','MI','KM','SOURCE',\n",
    "         'Mw','SLIP','TYPE']]"
   ]
  },
  {
   "cell_type": "markdown",
   "id": "20ff9f54",
   "metadata": {},
   "source": [
    "# 4: Print Table and Replace in Text File"
   ]
  },
  {
   "cell_type": "code",
   "execution_count": 43,
   "id": "4c350285",
   "metadata": {},
   "outputs": [
    {
     "name": "stdout",
     "output_type": "stream",
     "text": [
      "              FAULT                  MI     KM     SOURCE  Mw    SLIP     TYPE   \n",
      "MONTE VISTA - SHANNON               0.87    1.4      B    6.5     0.4        DS  \n",
      "SAN ANDREAS (1906)                  4.23    6.8      A    7.9    24.0        SS  \n",
      "HAYWARD (SE Extension)             13.61   21.9      B    6.5     3.0        SS  \n",
      "SARGENT                            15.10   24.3      B    6.8     3.0        SS  \n",
      "HAYWARD (Total Length)             15.97   25.7      A    7.1     9.0        SS  \n",
      "CALAVERAS (No.of Calaveras Res)    16.78   27.0      B    6.8     6.0        SS  \n",
      "CALAVERAS (So.of Calaveras Res)    17.15   27.6      B    6.2    15.0        SS  \n",
      "SAN GREGORIO                       17.15   27.6      A    7.3     5.0        SS  \n"
     ]
    }
   ],
   "source": [
    "print(FD.to_string(header=True, index=False, col_space = [32,5,8,7,4,7,10], justify='center'))"
   ]
  },
  {
   "cell_type": "markdown",
   "id": "a7d32f3c",
   "metadata": {},
   "source": [
    "# Questions to ask:\n",
    "# 1. Headers need to be the same?\n",
    "# 2. fit within dimensions of original text file?"
   ]
  },
  {
   "cell_type": "code",
   "execution_count": null,
   "id": "db360eb8",
   "metadata": {},
   "outputs": [],
   "source": []
  }
 ],
 "metadata": {
  "kernelspec": {
   "display_name": "Python 3 (ipykernel)",
   "language": "python",
   "name": "python3"
  },
  "language_info": {
   "codemirror_mode": {
    "name": "ipython",
    "version": 3
   },
   "file_extension": ".py",
   "mimetype": "text/x-python",
   "name": "python",
   "nbconvert_exporter": "python",
   "pygments_lexer": "ipython3",
   "version": "3.11.4"
  }
 },
 "nbformat": 4,
 "nbformat_minor": 5
}
